{
 "cells": [
  {
   "cell_type": "markdown",
   "metadata": {},
   "source": [
    "# Basic clustering\n",
    "## importing libraries"
   ]
  },
  {
   "cell_type": "code",
   "execution_count": null,
   "metadata": {},
   "outputs": [],
   "source": [
    "%matplotlib inline\n",
    "import numpy as np\n",
    "from fcmeans import FCM\n",
    "from matplotlib import pyplot as plt"
   ]
  },
  {
   "cell_type": "markdown",
   "metadata": {},
   "source": [
    "## creating artificial data set"
   ]
  },
  {
   "cell_type": "code",
   "execution_count": null,
   "metadata": {},
   "outputs": [],
   "source": [
    "n_samples = 3000\n",
    "\n",
    "X = np.concatenate((\n",
    "    np.random.normal((-2, -2), size=(n_samples, 2)),\n",
    "    np.random.normal((2, 2), size=(n_samples, 2)),\n",
    "    np.random.normal((0, 4), size=(n_samples, 2))\n",
    "))\n",
    "\n",
    "plt.figure(figsize=(5, 5))\n",
    "plt.scatter(X[:,0], X[:,1], alpha=.1)\n",
    "plt.show()"
   ]
  },
  {
   "attachments": {},
   "cell_type": "markdown",
   "metadata": {},
   "source": [
    "# fitting the fuzzy-c-means using several types of distance"
   ]
  },
  {
   "cell_type": "code",
   "execution_count": null,
   "metadata": {},
   "outputs": [],
   "source": [
    "fcm_cosine = FCM(n_clusters=3, distance='cosine', random_state=42)\n",
    "fcm_minkowski = FCM(n_clusters=3, distance='minkowski', distance_params={'p': 1}, random_state=42)\n",
    "fcm_euclidean = FCM(n_clusters=3)\n",
    "\n",
    "fcm_cosine.fit(X)\n",
    "fcm_minkowski.fit(X)\n",
    "fcm_euclidean.fit(X)"
   ]
  },
  {
   "cell_type": "markdown",
   "metadata": {},
   "source": [
    "# showing results"
   ]
  },
  {
   "cell_type": "code",
   "execution_count": null,
   "metadata": {},
   "outputs": [],
   "source": [
    "# plot result\n",
    "f, axes = plt.subplots(2, 2, figsize=(11,11))\n",
    "axes[0, 0].scatter(X[:,0], X[:,1], alpha=.1)\n",
    "axes[0, 0].set_title(\"Original data set\")\n",
    "\n",
    "# cosine\n",
    "fcm_cosine_centers = fcm_cosine.centers\n",
    "fcm_cosine_labels = fcm_cosine.predict(X)\n",
    "axes[0, 1].scatter(X[:,0], X[:,1], c=fcm_cosine_labels, alpha=.1)\n",
    "axes[0, 1].scatter(fcm_cosine_centers[:,0], fcm_cosine_centers[:,1], marker=\"+\", s=500, c='w')\n",
    "axes[0, 1].set_title(\"Cosine similarity\")\n",
    "\n",
    "# minkowski\n",
    "fcm_minkowski_centers = fcm_minkowski.centers\n",
    "fcm_minkowski_labels = fcm_minkowski.predict(X)\n",
    "axes[1, 0].scatter(X[:,0], X[:,1], c=fcm_minkowski_labels, alpha=.1)\n",
    "axes[1, 0].scatter(fcm_minkowski_centers[:,0], fcm_minkowski_centers[:,1], marker=\"+\", s=500, c='w')\n",
    "axes[1, 0].set_title(\"Minkowski distance (p=1)\")\n",
    "\n",
    "# euclidean\n",
    "fcm_euclidean_centers = fcm_euclidean.centers\n",
    "fcm_euclidean_labels = fcm_euclidean.predict(X)\n",
    "axes[1, 1].scatter(X[:,0], X[:,1], c=fcm_euclidean_labels, alpha=.1)\n",
    "axes[1, 1].scatter(fcm_euclidean_centers[:,0], fcm_euclidean_centers[:,1], marker=\"+\", s=500, c='w')\n",
    "axes[1, 1].set_title(\"Euclidean distance\")\n",
    "\n",
    "plt.savefig('images/distances.jpg')\n",
    "plt.show()"
   ]
  }
 ],
 "metadata": {
  "kernelspec": {
   "display_name": "Python 3.9.7 ('.venv': poetry)",
   "language": "python",
   "name": "python3"
  },
  "language_info": {
   "codemirror_mode": {
    "name": "ipython",
    "version": 3
   },
   "file_extension": ".py",
   "mimetype": "text/x-python",
   "name": "python",
   "nbconvert_exporter": "python",
   "pygments_lexer": "ipython3",
   "version": "3.10.10"
  },
  "vscode": {
   "interpreter": {
    "hash": "36847eb9e4823506b276005e97c8ce098bb3d2e74aa52f09327d3369dc00854c"
   }
  }
 },
 "nbformat": 4,
 "nbformat_minor": 4
}
