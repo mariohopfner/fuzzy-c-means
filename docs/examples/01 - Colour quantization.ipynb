{
 "cells": [
  {
   "cell_type": "markdown",
   "metadata": {},
   "source": [
    "# Color quantization\n",
    "## importing libraries"
   ]
  },
  {
   "cell_type": "code",
   "execution_count": null,
   "metadata": {},
   "outputs": [],
   "source": [
    "import numpy as np\n",
    "from PIL import Image\n",
    "from fcmeans import FCM"
   ]
  },
  {
   "cell_type": "markdown",
   "metadata": {},
   "source": [
    "## Getting and rescaling the image"
   ]
  },
  {
   "cell_type": "code",
   "execution_count": null,
   "metadata": {},
   "outputs": [],
   "source": [
    "image = Image.open('images/oarsman.jpeg')          # read image (oarsman at https://omadson.github.io/photos/)\n",
    "N, M = image.size                                  # get the number of columns (N) and rows (M)\n",
    "image                                              # show resized image"
   ]
  },
  {
   "cell_type": "markdown",
   "metadata": {},
   "source": [
    "## Transforming image into a data set"
   ]
  },
  {
   "cell_type": "code",
   "execution_count": null,
   "metadata": {},
   "outputs": [],
   "source": [
    "X = (\n",
    "    np.asarray(image)                              # convert a PIL image to np array\n",
    "    .reshape((N*M, 3))                             # reshape the image to convert each pixel to an instance of a data set\n",
    ")"
   ]
  },
  {
   "cell_type": "markdown",
   "metadata": {},
   "source": [
    "## Creating and fitting the model"
   ]
  },
  {
   "cell_type": "code",
   "execution_count": null,
   "metadata": {},
   "outputs": [],
   "source": [
    "fcm = FCM(n_clusters=10)                           # create a FCM instance with 10 clusters\n",
    "fcm.fit(X)                                         # fit the model"
   ]
  },
  {
   "cell_type": "markdown",
   "metadata": {},
   "source": [
    "## Pixel quantization"
   ]
  },
  {
   "cell_type": "code",
   "execution_count": null,
   "metadata": {},
   "outputs": [],
   "source": [
    "labeld_X = fcm.predict(X)                          # get the label of each data point\n",
    "transformed_X = fcm.centers[labeld_X]              # pixel quantization into the centers"
   ]
  },
  {
   "cell_type": "markdown",
   "metadata": {},
   "source": [
    "# Converting and saving image"
   ]
  },
  {
   "cell_type": "code",
   "execution_count": null,
   "metadata": {},
   "outputs": [],
   "source": [
    "quatized_array = (\n",
    "    transformed_X\n",
    "    .astype('uint8')                               # convert data points into 8-bit unsigned integers\n",
    "    .reshape((M, N, 3))                            # reshape image\n",
    ")\n",
    "\n",
    "quatized_image = Image.fromarray(np.asarray(quatized_array))   # convert array into a PIL image object\n",
    "quatized_image.save('images/oarsman_10colors.jpg') # save image"
   ]
  },
  {
   "cell_type": "markdown",
   "metadata": {},
   "source": [
    "## Final result\n",
    "### Original / Quantized"
   ]
  },
  {
   "cell_type": "code",
   "execution_count": null,
   "metadata": {},
   "outputs": [],
   "source": [
    "side_by_side = Image.fromarray(\n",
    "    np.hstack([\n",
    "        np.array(image),\n",
    "        np.array(quatized_image)\n",
    "    ])\n",
    ")\n",
    "side_by_side"
   ]
  }
 ],
 "metadata": {
  "kernelspec": {
   "display_name": "Python 3 (ipykernel)",
   "language": "python",
   "name": "python3"
  },
  "language_info": {
   "codemirror_mode": {
    "name": "ipython",
    "version": 3
   },
   "file_extension": ".py",
   "mimetype": "text/x-python",
   "name": "python",
   "nbconvert_exporter": "python",
   "pygments_lexer": "ipython3",
   "version": "3.10.10"
  }
 },
 "nbformat": 4,
 "nbformat_minor": 4
}
