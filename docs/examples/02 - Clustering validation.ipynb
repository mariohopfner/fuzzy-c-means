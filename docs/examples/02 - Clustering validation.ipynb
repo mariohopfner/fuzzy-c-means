{
 "cells": [
  {
   "cell_type": "markdown",
   "metadata": {},
   "source": [
    "# Clustering validation\n",
    "## importing libraries"
   ]
  },
  {
   "cell_type": "code",
   "execution_count": null,
   "metadata": {},
   "outputs": [],
   "source": [
    "%matplotlib inline\n",
    "import numpy as np\n",
    "from fcmeans import FCM\n",
    "from matplotlib import pyplot as plt"
   ]
  },
  {
   "cell_type": "markdown",
   "metadata": {},
   "source": [
    "## creating artificial data set"
   ]
  },
  {
   "cell_type": "code",
   "execution_count": null,
   "metadata": {},
   "outputs": [],
   "source": [
    "n_samples = 3000\n",
    "\n",
    "X = np.concatenate((\n",
    "    np.random.normal((-2, -2), size=(n_samples, 2)),\n",
    "    np.random.normal((2, 2), size=(n_samples, 2)),\n",
    "    np.random.normal((9, 0), size=(n_samples, 2)),\n",
    "    np.random.normal((5, -8), size=(n_samples, 2))\n",
    "))\n",
    "\n",
    "plt.figure(figsize=(5, 5))\n",
    "plt.scatter(X[:,0], X[:,1], alpha=.1)\n",
    "plt.show()"
   ]
  },
  {
   "cell_type": "markdown",
   "metadata": {},
   "source": [
    "# fitting the fuzzy-c-means\n",
    " - create models with 2, 3, 4, 5, 6 and 6 centers"
   ]
  },
  {
   "cell_type": "code",
   "execution_count": null,
   "metadata": {},
   "outputs": [],
   "source": [
    "n_clusters_list = [2, 3, 4, 5, 6, 7]\n",
    "models = list()\n",
    "for n_clusters in n_clusters_list:\n",
    "    fcm = FCM(n_clusters=n_clusters)\n",
    "    fcm.fit(X)\n",
    "    models.append(fcm)"
   ]
  },
  {
   "cell_type": "markdown",
   "metadata": {},
   "source": [
    "# showing results"
   ]
  },
  {
   "cell_type": "code",
   "execution_count": null,
   "metadata": {},
   "outputs": [],
   "source": [
    "# outputs\n",
    "num_clusters = len(n_clusters_list)\n",
    "rows = int(np.ceil(np.sqrt(num_clusters)))\n",
    "cols = int(np.ceil(num_clusters / rows))\n",
    "f, axes = plt.subplots(rows, cols, figsize=(11,16))\n",
    "for n_clusters, model, axe in zip(n_clusters_list, models, axes.ravel()):\n",
    "    # get validation metrics\n",
    "    pc = model.partition_coefficient\n",
    "    pec = model.partition_entropy_coefficient\n",
    "    \n",
    "    fcm_centers = model.centers\n",
    "    fcm_labels = model.predict(X)\n",
    "    # plot result\n",
    "    axe.scatter(X[:,0], X[:,1], c=fcm_labels, alpha=.1)\n",
    "    axe.scatter(fcm_centers[:,0], fcm_centers[:,1], marker=\"+\", s=500, c='black')\n",
    "    axe.set_title(f'n_clusters = {n_clusters}, PC = {pc:.3f}, PEC = {pec:.3f}')\n",
    "plt.show()"
   ]
  },
  {
   "cell_type": "markdown",
   "metadata": {},
   "source": [
    "note that the model with 4 clusters obtained the highest partition coefficient (PC) value and the lowerst partition entropy coefficient (PEC) value for this example. "
   ]
  }
 ],
 "metadata": {
  "kernelspec": {
   "display_name": "Python 3 (ipykernel)",
   "language": "python",
   "name": "python3"
  },
  "language_info": {
   "codemirror_mode": {
    "name": "ipython",
    "version": 3
   },
   "file_extension": ".py",
   "mimetype": "text/x-python",
   "name": "python",
   "nbconvert_exporter": "python",
   "pygments_lexer": "ipython3",
   "version": "3.10.10"
  }
 },
 "nbformat": 4,
 "nbformat_minor": 4
}
